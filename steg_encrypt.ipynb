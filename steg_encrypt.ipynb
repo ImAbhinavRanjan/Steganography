{
  "nbformat": 4,
  "nbformat_minor": 0,
  "metadata": {
    "colab": {
      "provenance": [],
      "authorship_tag": "ABX9TyNfjh3VEf7fi59RjMoeVlgx",
      "include_colab_link": true
    },
    "kernelspec": {
      "name": "python3",
      "display_name": "Python 3"
    },
    "language_info": {
      "name": "python"
    }
  },
  "cells": [
    {
      "cell_type": "markdown",
      "metadata": {
        "id": "view-in-github",
        "colab_type": "text"
      },
      "source": [
        "<a href=\"https://colab.research.google.com/github/ImAbhinavRanjan/Steganography/blob/main/steg.ipynb\" target=\"_parent\"><img src=\"https://colab.research.google.com/assets/colab-badge.svg\" alt=\"Open In Colab\"/></a>"
      ]
    },
    {
      "cell_type": "code",
      "source": [
        "import cv2\n",
        "import os\n",
        "\n",
        "def caesar_encrypt(message, key):\n",
        "    \"\"\"\n",
        "    Apply Caesar cipher encryption to a message (only alphabetic characters).\n",
        "    \"\"\"\n",
        "    result = []\n",
        "    for char in message:\n",
        "        if 'a' <= char <= 'z':\n",
        "            result.append(chr((ord(char) - ord('a') + key) % 26 + ord('a')))\n",
        "        elif 'A' <= char <= 'Z':\n",
        "            result.append(chr((ord(char) - ord('A') + key) % 26 + ord('A')))\n",
        "        else:\n",
        "            result.append(char)  # Keep other characters unchanged\n",
        "    return ''.join(result)\n",
        "\n",
        "def embed_message(image, message, password):\n",
        "    \"\"\"\n",
        "    Embed a Caesar cipher encrypted message into the image.\n",
        "    \"\"\"\n",
        "    key = sum(ord(char) for char in password)  # Generate key from password\n",
        "    encrypted_message = caesar_encrypt(message, key)  # Encrypt the message\n",
        "\n",
        "    # Embed the message into the image\n",
        "    n, m, z = 1, 0, 0  # Start from the second pixel\n",
        "    embedded_image = image.copy()\n",
        "    embedded_image[0, 0, 0] = len(encrypted_message)  # Store message length in the first pixel\n",
        "\n",
        "    for char in encrypted_message:\n",
        "        embedded_image[n, m, z] = ord(char)\n",
        "        z = (z + 1) % 3\n",
        "        if z == 0:\n",
        "            m += 1\n",
        "        if m >= embedded_image.shape[1]:\n",
        "            m = 0\n",
        "            n += 1\n",
        "    return embedded_image\n",
        "\n",
        "img_path = input(\"Enter the path of the image: \")\n",
        "img = cv2.imread(img_path)\n",
        "\n",
        "if img is None:\n",
        "    print(\"Image not found at the specified path.\")\n",
        "else:\n",
        "    message = input(\"Enter the secret message to embed: \")\n",
        "    password = input(\"Enter the passcode: \")\n",
        "\n",
        "    embedded_img = embed_message(img, message, password)\n",
        "    output_path = \"encryptedImage.png\"\n",
        "    cv2.imwrite(output_path, embedded_img)\n",
        "    print(f\"Message embedded successfully. Saved to {output_path}.\")\n",
        "\n",
        "\n"
      ],
      "metadata": {
        "colab": {
          "base_uri": "https://localhost:8080/"
        },
        "id": "IeNmoQn9e2G6",
        "outputId": "70a5c8df-348c-47f8-c784-9e21dd9e1e7a"
      },
      "execution_count": 35,
      "outputs": [
        {
          "output_type": "stream",
          "name": "stdout",
          "text": [
            "Enter the path of the image: /content/pexels-cristian-rojas-6836442.jpg\n",
            "Enter the secret message to embed: hello 1234\n",
            "Enter the passcode: pass\n",
            "Message embedded successfully. Saved to embedded_image.png.\n"
          ]
        }
      ]
    },
    {
      "cell_type": "code",
      "source": [
        "import cv2\n",
        "import os\n",
        "\n",
        "\n",
        "def caesar_decrypt(message, key):\n",
        "    \"\"\"\n",
        "    Apply Caesar cipher decryption to a message (only alphabetic characters).\n",
        "    \"\"\"\n",
        "    result = []\n",
        "    for char in message:\n",
        "        if 'a' <= char <= 'z':\n",
        "            result.append(chr((ord(char) - ord('a') - key) % 26 + ord('a')))\n",
        "        elif 'A' <= char <= 'Z':\n",
        "            result.append(chr((ord(char) - ord('A') - key) % 26 + ord('A')))\n",
        "        else:\n",
        "            result.append(char)  # Keep other characters unchanged\n",
        "    return ''.join(result)\n",
        "\n",
        "\n",
        "def extract_message(image, password):\n",
        "    \"\"\"\n",
        "    Extract and decrypt a message from the image.\n",
        "    \"\"\"\n",
        "    key = sum(ord(char) for char in password)  # Generate key from password\n",
        "    msg_length = image[0, 0, 0]  # Length stored in the first pixel\n",
        "\n",
        "    # Decode the message\n",
        "    n, m, z = 1, 0, 0\n",
        "    extracted_encrypted_msg = \"\"\n",
        "    for _ in range(msg_length):\n",
        "        extracted_encrypted_msg += chr(image[n, m, z])\n",
        "        z = (z + 1) % 3\n",
        "        if z == 0:\n",
        "            m += 1\n",
        "        if m >= image.shape[1]:\n",
        "            m = 0\n",
        "            n += 1\n",
        "\n",
        "    # Decrypt the message\n",
        "    decrypted_message = caesar_decrypt(extracted_encrypted_msg, key)\n",
        "    return decrypted_message\n",
        "\n",
        "\n",
        "img_path = input(\"Enter the path of the encrypted image: \")\n",
        "img = cv2.imread(img_path)\n",
        "\n",
        "if img is None:\n",
        "     print(\"Image not found at the specified path.\")\n",
        "else:\n",
        "      password = input(\"Enter the passcode for decryption: \")\n",
        "      decrypted_message = extract_message(img, password)\n",
        "      print(\"Decrypted message:\", decrypted_message)\n",
        "\n"
      ],
      "metadata": {
        "colab": {
          "base_uri": "https://localhost:8080/"
        },
        "id": "-XdHBcvxfFI7",
        "outputId": "c8a8c5fe-2537-4182-f9ab-6127a84988ae"
      },
      "execution_count": 36,
      "outputs": [
        {
          "output_type": "stream",
          "name": "stdout",
          "text": [
            "Enter the path of the encrypted image: /content/embedded_image.png\n",
            "Enter the passcode for decryption: pass\n",
            "Decrypted message: hello 1234\n"
          ]
        }
      ]
    }
  ]
}
