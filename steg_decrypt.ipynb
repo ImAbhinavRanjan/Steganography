{
  "nbformat": 4,
  "nbformat_minor": 0,
  "metadata": {
    "colab": {
      "provenance": [],
      "authorship_tag": "ABX9TyMZMKLSbLsQb2bk9ybiyA4X",
      "include_colab_link": true
    },
    "kernelspec": {
      "name": "python3",
      "display_name": "Python 3"
    },
    "language_info": {
      "name": "python"
    }
  },
  "cells": [
    {
      "cell_type": "markdown",
      "metadata": {
        "id": "view-in-github",
        "colab_type": "text"
      },
      "source": [
        "<a href=\"https://colab.research.google.com/github/ImAbhinavRanjan/Steganography/blob/main/steg_decrypt.ipynb\" target=\"_parent\"><img src=\"https://colab.research.google.com/assets/colab-badge.svg\" alt=\"Open In Colab\"/></a>"
      ]
    },
    {
      "cell_type": "code",
      "execution_count": null,
      "metadata": {
        "id": "BrmIqaPt0J8r"
      },
      "outputs": [],
      "source": [
        "import cv2\n",
        "import os\n",
        "\n",
        "\n",
        "def caesar_decrypt(message, key):\n",
        "    \"\"\"\n",
        "    Apply Caesar cipher decryption to a message (only alphabetic characters).\n",
        "    \"\"\"\n",
        "    result = []\n",
        "    for char in message:\n",
        "        if 'a' <= char <= 'z':\n",
        "            result.append(chr((ord(char) - ord('a') - key) % 26 + ord('a')))\n",
        "        elif 'A' <= char <= 'Z':\n",
        "            result.append(chr((ord(char) - ord('A') - key) % 26 + ord('A')))\n",
        "        else:\n",
        "            result.append(char)  # Keep other characters unchanged\n",
        "    return ''.join(result)\n",
        "\n",
        "\n",
        "def extract_message(image, password):\n",
        "    \"\"\"\n",
        "    Extract and decrypt a message from the image.\n",
        "    \"\"\"\n",
        "    key = sum(ord(char) for char in password)  # Generate key from password\n",
        "    msg_length = image[0, 0, 0]  # Length stored in the first pixel\n",
        "\n",
        "    # Decode the message\n",
        "    n, m, z = 1, 0, 0\n",
        "    extracted_encrypted_msg = \"\"\n",
        "    for _ in range(msg_length):\n",
        "        extracted_encrypted_msg += chr(image[n, m, z])\n",
        "        z = (z + 1) % 3\n",
        "        if z == 0:\n",
        "            m += 1\n",
        "        if m >= image.shape[1]:\n",
        "            m = 0\n",
        "            n += 1\n",
        "\n",
        "    # Decrypt the message\n",
        "    decrypted_message = caesar_decrypt(extracted_encrypted_msg, key)\n",
        "    return decrypted_message\n",
        "\n",
        "\n",
        "img_path = input(\"Enter the path of the encrypted image: \")\n",
        "img = cv2.imread(img_path)\n",
        "\n",
        "if img is None:\n",
        "     print(\"Image not found at the specified path.\")\n",
        "else:\n",
        "      password = input(\"Enter the passcode for decryption: \")\n",
        "      decrypted_message = extract_message(img, password)\n",
        "      print(\"Decrypted message:\", decrypted_message)"
      ]
    }
  ]
}